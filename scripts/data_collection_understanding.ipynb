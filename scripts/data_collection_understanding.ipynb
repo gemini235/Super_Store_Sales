{
 "cells": [
  {
   "cell_type": "code",
   "execution_count": 5,
   "id": "04dc90a3",
   "metadata": {},
   "outputs": [],
   "source": [
    "import pandas as pd"
   ]
  },
  {
   "cell_type": "code",
   "execution_count": 6,
   "id": "8cfa5cd1",
   "metadata": {},
   "outputs": [],
   "source": [
    "# Loading the dataset\n",
    "file_path = \"E:\\\\Superstore_Sales\\\\csv_files\\\\Superstore_Sales_Dataset.csv\""
   ]
  },
  {
   "cell_type": "code",
   "execution_count": 7,
   "id": "22dcc6fa",
   "metadata": {},
   "outputs": [],
   "source": [
    "data = pd.read_csv(file_path)"
   ]
  },
  {
   "cell_type": "code",
   "execution_count": 8,
   "id": "b0dd9cdb",
   "metadata": {},
   "outputs": [
    {
     "name": "stdout",
     "output_type": "stream",
     "text": [
      "\n",
      "--- Dataset Information: ---\n",
      "<class 'pandas.core.frame.DataFrame'>\n",
      "RangeIndex: 9800 entries, 0 to 9799\n",
      "Data columns (total 18 columns):\n",
      " #   Column         Non-Null Count  Dtype  \n",
      "---  ------         --------------  -----  \n",
      " 0   Row ID         9800 non-null   int64  \n",
      " 1   Order ID       9800 non-null   object \n",
      " 2   Order Date     9800 non-null   object \n",
      " 3   Ship Date      9800 non-null   object \n",
      " 4   Ship Mode      9800 non-null   object \n",
      " 5   Customer ID    9800 non-null   object \n",
      " 6   Customer Name  9800 non-null   object \n",
      " 7   Segment        9800 non-null   object \n",
      " 8   Country        9800 non-null   object \n",
      " 9   City           9800 non-null   object \n",
      " 10  State          9800 non-null   object \n",
      " 11  Postal Code    9789 non-null   float64\n",
      " 12  Region         9800 non-null   object \n",
      " 13  Product ID     9800 non-null   object \n",
      " 14  Category       9800 non-null   object \n",
      " 15  Sub-Category   9800 non-null   object \n",
      " 16  Product Name   9800 non-null   object \n",
      " 17  Sales          9800 non-null   float64\n",
      "dtypes: float64(2), int64(1), object(15)\n",
      "memory usage: 1.3+ MB\n"
     ]
    }
   ],
   "source": [
    "# Displaying basic infromation about the dataset\n",
    "print('\\n--- Dataset Information: ---')\n",
    "data.info()"
   ]
  },
  {
   "cell_type": "code",
   "execution_count": 9,
   "id": "041e96f2",
   "metadata": {},
   "outputs": [
    {
     "name": "stdout",
     "output_type": "stream",
     "text": [
      "\n",
      "--- First 5 rows of the dataset: ---\n",
      "   Row ID        Order ID  Order Date   Ship Date       Ship Mode Customer ID  \\\n",
      "0       1  CA-2017-152156  08/11/2017  11/11/2017    Second Class    CG-12520   \n",
      "1       2  CA-2017-152156  08/11/2017  11/11/2017    Second Class    CG-12520   \n",
      "2       3  CA-2017-138688  12/06/2017  16/06/2017    Second Class    DV-13045   \n",
      "3       4  US-2016-108966  11/10/2016  18/10/2016  Standard Class    SO-20335   \n",
      "4       5  US-2016-108966  11/10/2016  18/10/2016  Standard Class    SO-20335   \n",
      "\n",
      "     Customer Name    Segment        Country             City       State  \\\n",
      "0      Claire Gute   Consumer  United States        Henderson    Kentucky   \n",
      "1      Claire Gute   Consumer  United States        Henderson    Kentucky   \n",
      "2  Darrin Van Huff  Corporate  United States      Los Angeles  California   \n",
      "3   Sean O'Donnell   Consumer  United States  Fort Lauderdale     Florida   \n",
      "4   Sean O'Donnell   Consumer  United States  Fort Lauderdale     Florida   \n",
      "\n",
      "   Postal Code Region       Product ID         Category Sub-Category  \\\n",
      "0      42420.0  South  FUR-BO-10001798        Furniture    Bookcases   \n",
      "1      42420.0  South  FUR-CH-10000454        Furniture       Chairs   \n",
      "2      90036.0   West  OFF-LA-10000240  Office Supplies       Labels   \n",
      "3      33311.0  South  FUR-TA-10000577        Furniture       Tables   \n",
      "4      33311.0  South  OFF-ST-10000760  Office Supplies      Storage   \n",
      "\n",
      "                                        Product Name     Sales  \n",
      "0                  Bush Somerset Collection Bookcase  261.9600  \n",
      "1  Hon Deluxe Fabric Upholstered Stacking Chairs,...  731.9400  \n",
      "2  Self-Adhesive Address Labels for Typewriters b...   14.6200  \n",
      "3      Bretford CR4500 Series Slim Rectangular Table  957.5775  \n",
      "4                     Eldon Fold 'N Roll Cart System   22.3680  \n"
     ]
    }
   ],
   "source": [
    "# Displaying the first few rows of the dataset\n",
    "print('\\n--- First 5 rows of the dataset: ---')\n",
    "print(data.head())"
   ]
  },
  {
   "cell_type": "code",
   "execution_count": 10,
   "id": "9de2a7e5",
   "metadata": {},
   "outputs": [
    {
     "name": "stdout",
     "output_type": "stream",
     "text": [
      "\n",
      "--- Missing Values per column: ---\n",
      "Row ID            0\n",
      "Order ID          0\n",
      "Order Date        0\n",
      "Ship Date         0\n",
      "Ship Mode         0\n",
      "Customer ID       0\n",
      "Customer Name     0\n",
      "Segment           0\n",
      "Country           0\n",
      "City              0\n",
      "State             0\n",
      "Postal Code      11\n",
      "Region            0\n",
      "Product ID        0\n",
      "Category          0\n",
      "Sub-Category      0\n",
      "Product Name      0\n",
      "Sales             0\n",
      "dtype: int64\n"
     ]
    }
   ],
   "source": [
    "# checking for missing values\n",
    "print('\\n--- Missing Values per column: ---')\n",
    "print(data.isnull().sum())"
   ]
  },
  {
   "cell_type": "code",
   "execution_count": 11,
   "id": "83c176f4",
   "metadata": {},
   "outputs": [
    {
     "name": "stdout",
     "output_type": "stream",
     "text": [
      "\n",
      "--- Descriptive statistics (Numerical Columns): ---\n",
      "            Row ID   Postal Code         Sales\n",
      "count  9800.000000   9789.000000   9800.000000\n",
      "mean   4900.500000  55273.322403    230.769059\n",
      "std    2829.160653  32041.223413    626.651875\n",
      "min       1.000000   1040.000000      0.444000\n",
      "25%    2450.750000  23223.000000     17.248000\n",
      "50%    4900.500000  58103.000000     54.490000\n",
      "75%    7350.250000  90008.000000    210.605000\n",
      "max    9800.000000  99301.000000  22638.480000\n"
     ]
    }
   ],
   "source": [
    "# Descriptive statistics of the dataset\n",
    "print('\\n--- Descriptive statistics (Numerical Columns): ---')\n",
    "# Include datetime columns analysis if needed, requires conversion first\n",
    "print(data.describe(include='number')) "
   ]
  },
  {
   "cell_type": "code",
   "execution_count": 12,
   "id": "2696463f",
   "metadata": {},
   "outputs": [
    {
     "name": "stdout",
     "output_type": "stream",
     "text": [
      "\n",
      "--- Descriptive statistics (Object Columns): ---\n",
      "              Order ID  Order Date   Ship Date       Ship Mode Customer ID  \\\n",
      "count             9800        9800        9800            9800        9800   \n",
      "unique            4922        1230        1326               4         793   \n",
      "top     CA-2018-100111  05/09/2017  26/09/2018  Standard Class    WB-21850   \n",
      "freq                14          38          34            5859          35   \n",
      "\n",
      "        Customer Name   Segment        Country           City       State  \\\n",
      "count            9800      9800           9800           9800        9800   \n",
      "unique            793         3              1            529          49   \n",
      "top     William Brown  Consumer  United States  New York City  California   \n",
      "freq               35      5101           9800            891        1946   \n",
      "\n",
      "       Region       Product ID         Category Sub-Category     Product Name  \n",
      "count    9800             9800             9800         9800             9800  \n",
      "unique      4             1861                3           17             1849  \n",
      "top      West  OFF-PA-10001970  Office Supplies      Binders  Staple envelope  \n",
      "freq     3140               19             5909         1492               47  \n"
     ]
    }
   ],
   "source": [
    "print('\\n--- Descriptive statistics (Object Columns): ---')\n",
    "print(data.describe(include='object'))"
   ]
  },
  {
   "cell_type": "code",
   "execution_count": 13,
   "id": "9941e74e",
   "metadata": {},
   "outputs": [
    {
     "name": "stdout",
     "output_type": "stream",
     "text": [
      "\n",
      "==================================================\n",
      "Initial Business Performance Overview (Raw Data)\n",
      "==================================================\n"
     ]
    }
   ],
   "source": [
    "print(\"\\n\" + \"=\"*50)\n",
    "print(\"Initial Business Performance Overview (Raw Data)\")\n",
    "print(\"=\"*50)"
   ]
  },
  {
   "cell_type": "code",
   "execution_count": 15,
   "id": "4b91edbf",
   "metadata": {},
   "outputs": [
    {
     "name": "stdout",
     "output_type": "stream",
     "text": [
      "\n",
      "[PDF Q1] Total Sales (Raw Data): 2,261,536.78\n"
     ]
    }
   ],
   "source": [
    "# Total Sales\n",
    "total_sales_raw = data['Sales'].sum()\n",
    "print(f\"\\n[PDF Q1] Total Sales (Raw Data): {total_sales_raw:,.2f}\")"
   ]
  },
  {
   "cell_type": "code",
   "execution_count": 16,
   "id": "c1aca0d1",
   "metadata": {},
   "outputs": [
    {
     "name": "stdout",
     "output_type": "stream",
     "text": [
      "[PDF Q1] Total Unique Orders (Raw Data): 4922\n"
     ]
    }
   ],
   "source": [
    "# Total Orders\n",
    "if 'Order ID' in data.columns:\n",
    "    total_orders_raw = data['Order ID'].nunique()\n",
    "    print(f\"[PDF Q1] Total Unique Orders (Raw Data): {total_orders_raw}\")\n",
    "else:\n",
    "    print(\"[PDF Q1] Cannot calculate unique orders without 'Order ID'. Total rows:\", len(data))\n"
   ]
  },
  {
   "cell_type": "code",
   "execution_count": 14,
   "id": "37052f60",
   "metadata": {},
   "outputs": [
    {
     "name": "stdout",
     "output_type": "stream",
     "text": [
      "[PDF Q1] Total Unique Customers (Raw Data): 793\n"
     ]
    }
   ],
   "source": [
    "# Unique Customers\n",
    "if 'Customer ID' in data.columns:\n",
    "    total_customers_raw = data['Customer ID'].nunique()\n",
    "    print(f\"[PDF Q1] Total Unique Customers (Raw Data): {total_customers_raw}\")\n",
    "else:\n",
    "    print(\"[PDF Q1] Cannot calculate unique customers without 'Customer ID'.\")"
   ]
  },
  {
   "cell_type": "code",
   "execution_count": 17,
   "id": "5bb8d185",
   "metadata": {},
   "outputs": [
    {
     "name": "stdout",
     "output_type": "stream",
     "text": [
      "[PDF Q1] Average Order Value (Raw Data): 459.48\n"
     ]
    }
   ],
   "source": [
    "# Average Order Value\n",
    "if 'Order ID' in data.columns:\n",
    "    avg_order_value_raw = total_sales_raw / total_orders_raw if total_orders_raw > 0 else 0\n",
    "    print(f\"[PDF Q1] Average Order Value (Raw Data): {avg_order_value_raw:,.2f}\")\n",
    "else:\n",
    "     print(\"[PDF Q1] Cannot reliably calculate Average Order Value without unique 'Order ID'.\")\n",
    "     avg_sale_per_row = data['Sales'].mean()\n",
    "     print(f\"Average Sale per Row (Raw Data): {avg_sale_per_row:,.2f}\")"
   ]
  }
 ],
 "metadata": {
  "kernelspec": {
   "display_name": "base",
   "language": "python",
   "name": "python3"
  },
  "language_info": {
   "codemirror_mode": {
    "name": "ipython",
    "version": 3
   },
   "file_extension": ".py",
   "mimetype": "text/x-python",
   "name": "python",
   "nbconvert_exporter": "python",
   "pygments_lexer": "ipython3",
   "version": "3.12.7"
  }
 },
 "nbformat": 4,
 "nbformat_minor": 5
}
